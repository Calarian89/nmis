{
 "cells": [
  {
   "cell_type": "code",
   "execution_count": null,
   "metadata": {},
   "outputs": [],
   "source": [
    "from notebooks.local.utils.spark_local import get_spark_session\n",
    "from ipynb.fs.defs.notebooks.enhance_nmis_data import Nmis_Data_Enhancer, router_tables\n",
    "\n",
    "Nmis_Data_Enhancer(\n",
    "    get_spark_session(),\n",
    "    \"../../outputs/raw/routers/routers.parquet\",\n",
    "    None,  # Don't provide a target dir since local spark does not like saving tables to a path\n",
    "    \"edl_staging.router_events\",  # Point to the staging DB instead of normal edl since locally we never load into real edl.\n",
    "    tables=router_tables(),\n",
    ").enhance()"
   ]
  },
  {
   "cell_type": "code",
   "execution_count": null,
   "metadata": {},
   "outputs": [],
   "source": [
    "from notebooks.local.utils.spark_local import get_spark_session\n",
    "from ipynb.fs.defs.notebooks.enhance_nmis_data import Nmis_Data_Enhancer, switch_tables\n",
    "\n",
    "Nmis_Data_Enhancer(\n",
    "    get_spark_session(),\n",
    "    \"../../outputs/raw/switches/switches.parquet\",\n",
    "    None,  # Don't provide a target dir since local spark does not like saving tables to a path\n",
    "    \"edl_staging.switch_events\",  # Point to the staging DB instead of normal edl since locally we never load into real edl.\n",
    "    tables=switch_tables(),\n",
    ").enhance()"
   ]
  }
 ],
 "metadata": {
  "kernelspec": {
   "display_name": ".venv",
   "language": "python",
   "name": "python3"
  },
  "language_info": {
   "codemirror_mode": {
    "name": "ipython",
    "version": 3
   },
   "file_extension": ".py",
   "mimetype": "text/x-python",
   "name": "python",
   "nbconvert_exporter": "python",
   "pygments_lexer": "ipython3",
   "version": "3.10.12"
  }
 },
 "nbformat": 4,
 "nbformat_minor": 2
}
