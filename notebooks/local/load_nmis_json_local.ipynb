{
 "cells": [
  {
   "cell_type": "code",
   "execution_count": null,
   "metadata": {},
   "outputs": [],
   "source": [
    "from notebooks.local.utils.dbutils_local import dbutils\n",
    "from notebooks.local.utils.spark_local import get_spark_session\n",
    "from ipynb.fs.defs.notebooks.load_nmis_json import Json_Data_Loader, routers_schema\n",
    "\n",
    "Json_Data_Loader(\n",
    "    get_spark_session(),\n",
    "    dbutils,\n",
    "    \"../../sampleData\",\n",
    "    \"../../outputs/raw/routers/routers.parquet\",\n",
    "    routers_schema(),\n",
    ").load_files()"
   ]
  },
  {
   "cell_type": "code",
   "execution_count": null,
   "metadata": {},
   "outputs": [],
   "source": [
    "from notebooks.local.utils.dbutils_local import dbutils\n",
    "from notebooks.local.utils.spark_local import get_spark_session\n",
    "from ipynb.fs.defs.notebooks.load_nmis_json import Json_Data_Loader, switches_schema\n",
    "\n",
    "Json_Data_Loader(\n",
    "    get_spark_session(),\n",
    "    dbutils,\n",
    "    \"../../sampleData\",\n",
    "    \"../../outputs/raw/switches/switches.parquet\",\n",
    "    switches_schema(),\n",
    ").load_files()"
   ]
  }
 ],
 "metadata": {
  "kernelspec": {
   "display_name": ".venv",
   "language": "python",
   "name": "python3"
  },
  "language_info": {
   "codemirror_mode": {
    "name": "ipython",
    "version": 3
   },
   "file_extension": ".py",
   "mimetype": "text/x-python",
   "name": "python",
   "nbconvert_exporter": "python",
   "pygments_lexer": "ipython3",
   "version": "3.10.6"
  }
 },
 "nbformat": 4,
 "nbformat_minor": 2
}
